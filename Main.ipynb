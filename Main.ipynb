{
 "cells": [
  {
   "cell_type": "code",
   "execution_count": 2,
   "id": "8c1f004b-d7fe-4c8a-bd9d-f0bddd3992b7",
   "metadata": {},
   "outputs": [
    {
     "name": "stdout",
     "output_type": "stream",
     "text": [
      "WARNING:tensorflow:From C:\\Users\\varsh\\AppData\\Local\\Programs\\Python\\Python312\\Lib\\site-packages\\tf_keras\\src\\losses.py:2976: The name tf.losses.sparse_softmax_cross_entropy is deprecated. Please use tf.compat.v1.losses.sparse_softmax_cross_entropy instead.\n",
      "\n"
     ]
    }
   ],
   "source": [
    "import pandas as pd\n",
    "import numpy as np\n",
    "from sentence_transformers import SentenceTransformer\n",
    "import faiss\n",
    "import openai\n",
    "import openpyxl\n",
    "import os"
   ]
  },
  {
   "cell_type": "code",
   "execution_count": 3,
   "id": "ee2bdbbf-5194-4c31-b941-d0e612ae8907",
   "metadata": {},
   "outputs": [],
   "source": [
    "\n",
    "openai.api_key = \"my_api_key\"\n"
   ]
  },
  {
   "cell_type": "markdown",
   "id": "972c0069-4797-4154-95b2-4afd0d52e81c",
   "metadata": {},
   "source": [
    "## Data loading and Preprocessing"
   ]
  },
  {
   "cell_type": "code",
   "execution_count": 2,
   "id": "69c3a91c-bed5-43f2-b4e7-c9e4d9615459",
   "metadata": {},
   "outputs": [
    {
     "data": {
      "text/plain": [
       "(1000, 11)"
      ]
     },
     "execution_count": 2,
     "metadata": {},
     "output_type": "execute_result"
    }
   ],
   "source": [
    "df= pd.read_csv('input_table.csv')\n",
    "df.shape"
   ]
  },
  {
   "cell_type": "code",
   "execution_count": 3,
   "id": "8418e52c-c102-48fa-8988-d37a814ce64c",
   "metadata": {},
   "outputs": [
    {
     "data": {
      "text/html": [
       "<div>\n",
       "<style scoped>\n",
       "    .dataframe tbody tr th:only-of-type {\n",
       "        vertical-align: middle;\n",
       "    }\n",
       "\n",
       "    .dataframe tbody tr th {\n",
       "        vertical-align: top;\n",
       "    }\n",
       "\n",
       "    .dataframe thead th {\n",
       "        text-align: right;\n",
       "    }\n",
       "</style>\n",
       "<table border=\"1\" class=\"dataframe\">\n",
       "  <thead>\n",
       "    <tr style=\"text-align: right;\">\n",
       "      <th></th>\n",
       "      <th>Invoice ID</th>\n",
       "      <th>City</th>\n",
       "      <th>Gender</th>\n",
       "      <th>Product line</th>\n",
       "      <th>Unit price</th>\n",
       "      <th>Quantity</th>\n",
       "      <th>Total</th>\n",
       "      <th>Date</th>\n",
       "      <th>Payment</th>\n",
       "      <th>gross income</th>\n",
       "      <th>Rating</th>\n",
       "    </tr>\n",
       "  </thead>\n",
       "  <tbody>\n",
       "    <tr>\n",
       "      <th>0</th>\n",
       "      <td>750-67-8428</td>\n",
       "      <td>Yangon</td>\n",
       "      <td>Female</td>\n",
       "      <td>Health and beauty</td>\n",
       "      <td>74.69</td>\n",
       "      <td>7</td>\n",
       "      <td>548.9715</td>\n",
       "      <td>1/5/2019</td>\n",
       "      <td>Ewallet</td>\n",
       "      <td>26.1415</td>\n",
       "      <td>9.1</td>\n",
       "    </tr>\n",
       "    <tr>\n",
       "      <th>1</th>\n",
       "      <td>226-31-3081</td>\n",
       "      <td>Naypyitaw</td>\n",
       "      <td>Female</td>\n",
       "      <td>Electronic accessories</td>\n",
       "      <td>15.28</td>\n",
       "      <td>5</td>\n",
       "      <td>80.2200</td>\n",
       "      <td>3/8/2019</td>\n",
       "      <td>Cash</td>\n",
       "      <td>3.8200</td>\n",
       "      <td>9.6</td>\n",
       "    </tr>\n",
       "    <tr>\n",
       "      <th>2</th>\n",
       "      <td>631-41-3108</td>\n",
       "      <td>Yangon</td>\n",
       "      <td>Male</td>\n",
       "      <td>Home and lifestyle</td>\n",
       "      <td>46.33</td>\n",
       "      <td>7</td>\n",
       "      <td>340.5255</td>\n",
       "      <td>3/3/2019</td>\n",
       "      <td>Credit card</td>\n",
       "      <td>16.2155</td>\n",
       "      <td>7.4</td>\n",
       "    </tr>\n",
       "    <tr>\n",
       "      <th>3</th>\n",
       "      <td>123-19-1176</td>\n",
       "      <td>Yangon</td>\n",
       "      <td>Male</td>\n",
       "      <td>Health and beauty</td>\n",
       "      <td>58.22</td>\n",
       "      <td>8</td>\n",
       "      <td>489.0480</td>\n",
       "      <td>1/27/2019</td>\n",
       "      <td>Ewallet</td>\n",
       "      <td>23.2880</td>\n",
       "      <td>8.4</td>\n",
       "    </tr>\n",
       "    <tr>\n",
       "      <th>4</th>\n",
       "      <td>373-73-7910</td>\n",
       "      <td>Yangon</td>\n",
       "      <td>Male</td>\n",
       "      <td>Sports and travel</td>\n",
       "      <td>86.31</td>\n",
       "      <td>7</td>\n",
       "      <td>634.3785</td>\n",
       "      <td>2/8/2019</td>\n",
       "      <td>Ewallet</td>\n",
       "      <td>30.2085</td>\n",
       "      <td>5.3</td>\n",
       "    </tr>\n",
       "  </tbody>\n",
       "</table>\n",
       "</div>"
      ],
      "text/plain": [
       "    Invoice ID       City  Gender            Product line  Unit price  \\\n",
       "0  750-67-8428     Yangon  Female       Health and beauty       74.69   \n",
       "1  226-31-3081  Naypyitaw  Female  Electronic accessories       15.28   \n",
       "2  631-41-3108     Yangon    Male      Home and lifestyle       46.33   \n",
       "3  123-19-1176     Yangon    Male       Health and beauty       58.22   \n",
       "4  373-73-7910     Yangon    Male       Sports and travel       86.31   \n",
       "\n",
       "   Quantity     Total       Date      Payment  gross income  Rating  \n",
       "0         7  548.9715   1/5/2019      Ewallet       26.1415     9.1  \n",
       "1         5   80.2200   3/8/2019         Cash        3.8200     9.6  \n",
       "2         7  340.5255   3/3/2019  Credit card       16.2155     7.4  \n",
       "3         8  489.0480  1/27/2019      Ewallet       23.2880     8.4  \n",
       "4         7  634.3785   2/8/2019      Ewallet       30.2085     5.3  "
      ]
     },
     "execution_count": 3,
     "metadata": {},
     "output_type": "execute_result"
    }
   ],
   "source": [
    "df.head()"
   ]
  },
  {
   "cell_type": "code",
   "execution_count": 4,
   "id": "61463548-a156-46a5-9f45-283c4dd53809",
   "metadata": {},
   "outputs": [
    {
     "data": {
      "text/plain": [
       "Invoice ID      0\n",
       "City            0\n",
       "Gender          0\n",
       "Product line    0\n",
       "Unit price      0\n",
       "Quantity        0\n",
       "Total           0\n",
       "Date            0\n",
       "Payment         0\n",
       "gross income    0\n",
       "Rating          0\n",
       "dtype: int64"
      ]
     },
     "execution_count": 4,
     "metadata": {},
     "output_type": "execute_result"
    }
   ],
   "source": [
    "df.isna().sum()"
   ]
  },
  {
   "cell_type": "code",
   "execution_count": 5,
   "id": "821f16d6-21c2-4646-b2ff-71f7ebd02620",
   "metadata": {},
   "outputs": [
    {
     "data": {
      "text/plain": [
       "Invoice ID       object\n",
       "City             object\n",
       "Gender           object\n",
       "Product line     object\n",
       "Unit price      float64\n",
       "Quantity          int64\n",
       "Total           float64\n",
       "Date             object\n",
       "Payment          object\n",
       "gross income    float64\n",
       "Rating          float64\n",
       "dtype: object"
      ]
     },
     "execution_count": 5,
     "metadata": {},
     "output_type": "execute_result"
    }
   ],
   "source": [
    "df.dtypes"
   ]
  },
  {
   "cell_type": "code",
   "execution_count": 6,
   "id": "9551dd4e-6dba-404f-8e07-b6ea430f31cd",
   "metadata": {},
   "outputs": [],
   "source": [
    "df['Date'] = pd.to_datetime(df['Date'])"
   ]
  },
  {
   "cell_type": "code",
   "execution_count": 7,
   "id": "fcbdf6f3-1213-4e82-9148-a4f4992eb2a5",
   "metadata": {},
   "outputs": [
    {
     "data": {
      "text/plain": [
       "Index(['Invoice ID', 'City', 'Gender', 'Product line', 'Unit price',\n",
       "       'Quantity', 'Total', 'Date', 'Payment', 'gross income', 'Rating'],\n",
       "      dtype='object')"
      ]
     },
     "execution_count": 7,
     "metadata": {},
     "output_type": "execute_result"
    }
   ],
   "source": [
    "df.columns"
   ]
  },
  {
   "cell_type": "code",
   "execution_count": 11,
   "id": "dcb3453d-912e-4ad0-9937-057501d0bcda",
   "metadata": {},
   "outputs": [],
   "source": [
    "#function to convert row into text\n",
    "\n",
    "def row_to_text(row):\n",
    "    return f\"Invoice ID: {row['Invoice ID']},City:{row['City']},Gender:{row['Gender']},Product line:{row['Product line']},Unit price:{row['Unit price']},Quantity:{row['Quantity']},Total:{row['Total']},Date:{row['Date']},Payment:{row['Payment']},gross income:{row['gross income']},Rating:{row['Rating']}\"  \n",
    "\n",
    "table_text= df.apply(row_to_text, axis=1).tolist()"
   ]
  },
  {
   "cell_type": "code",
   "execution_count": 12,
   "id": "7035d8fe-542c-4183-a26b-767af1d6ea3d",
   "metadata": {},
   "outputs": [],
   "source": [
    "#embeddings\n",
    "embed_model= SentenceTransformer('paraphrase-MiniLM-L6-v2')\n",
    "table_embeddings= embed_model.encode(table_text).astype(np.float32)"
   ]
  },
  {
   "cell_type": "code",
   "execution_count": 13,
   "id": "16f5c647-b424-4203-98cb-3e38bce9cf0c",
   "metadata": {},
   "outputs": [
    {
     "data": {
      "text/plain": [
       "384"
      ]
     },
     "execution_count": 13,
     "metadata": {},
     "output_type": "execute_result"
    }
   ],
   "source": [
    "embedding_dim= table_embeddings.shape[1]\n",
    "embedding_dim"
   ]
  },
  {
   "cell_type": "code",
   "execution_count": 14,
   "id": "9ac30d15-e729-4ee6-9c4e-210c445bffdc",
   "metadata": {},
   "outputs": [],
   "source": [
    "# row indexes\n",
    "\n",
    "row_text = df.apply(lambda row: \" | \".join(map(str, row)), axis=1).tolist()\n",
    "row_embeddings = embed_model.encode(row_text).astype(np.float32)\n",
    "row_index = faiss.IndexFlatL2(embedding_dim)\n",
    "row_index.add(row_embeddings)\n",
    "faiss.write_index(row_index, \"faiss_row_index.idx\")\n"
   ]
  },
  {
   "cell_type": "code",
   "execution_count": 15,
   "id": "67609cbb-0438-4b93-a280-333b5dd2a4e4",
   "metadata": {},
   "outputs": [],
   "source": [
    "# column indices\n",
    "\n",
    "column_text= [f\"Column: {col}\" for col in df.columns]\n",
    "column_embeddings = embed_model.encode(column_text).astype(np.float32)\n",
    "\n",
    "column_index = faiss.IndexFlatL2(embedding_dim)\n",
    "column_index.add(column_embeddings)\n",
    "faiss.write_index(column_index,\"faiss_column_index.idx\")"
   ]
  },
  {
   "cell_type": "code",
   "execution_count": 16,
   "id": "1e30a622-230c-49a4-9f1e-9ac0f1c3a47e",
   "metadata": {},
   "outputs": [
    {
     "name": "stdout",
     "output_type": "stream",
     "text": [
      "Row Index Size: 1000\n",
      "Column Index Size: 11\n"
     ]
    }
   ],
   "source": [
    "print(\"Row Index Size:\", row_index.ntotal)\n",
    "print(\"Column Index Size:\", column_index.ntotal)\n"
   ]
  },
  {
   "cell_type": "markdown",
   "id": "f58cfa5c-6181-42b0-bd6d-00689f0adedd",
   "metadata": {},
   "source": [
    "### RAG"
   ]
  },
  {
   "cell_type": "code",
   "execution_count": 17,
   "id": "b675a47f-0c98-449c-a2fe-a351c0659fa6",
   "metadata": {},
   "outputs": [],
   "source": [
    "#data retrieval based on cosine similarity\n",
    "\n",
    "def retrieve_relevant_data(query, table_embeddings, column_embeddings, row_index, column_index, threshold=0.5, max_results=10):\n",
    "    query_embedding = embed_model.encode([query]).astype(np.float32)\n",
    "\n",
    "    query_embedding = query_embedding / np.linalg.norm(query_embedding)\n",
    "    table_embeddings = table_embeddings / np.linalg.norm(table_embeddings, axis=1, keepdims=True)\n",
    "    column_embeddings = column_embeddings / np.linalg.norm(column_embeddings, axis=1, keepdims=True)\n",
    " \n",
    "    _, row_indices = row_index.search(query_embedding, max_results)\n",
    "    _, column_indices = column_index.search(query_embedding, max_results)\n",
    "    \n",
    "    row_similarities = row_indices[0]\n",
    "    column_similarities = column_indices[0]\n",
    "\n",
    "    relevant_row_indices = [idx for idx, sim in zip(row_indices[0], row_similarities) if sim >= threshold]\n",
    "    relevant_column_indices = [idx for idx, sim in zip(column_indices[0], column_similarities) if sim >= threshold]\n",
    "\n",
    "    relevant_rows = df.iloc[relevant_row_indices].values.tolist() if relevant_row_indices else []\n",
    "    relevant_columns = [df.columns[idx] for idx in relevant_column_indices] if relevant_column_indices else []\n",
    "\n",
    "    return relevant_rows, relevant_columns, relevant_row_indices, relevant_column_indices\n"
   ]
  },
  {
   "cell_type": "code",
   "execution_count": 18,
   "id": "48980068-50a5-4e2c-b174-75af53805a19",
   "metadata": {},
   "outputs": [
    {
     "name": "stdout",
     "output_type": "stream",
     "text": [
      "Relevant Rows :\n",
      "['232-16-2483', 'Naypyitaw', 'Female', 'Sports and travel', 68.12, 1, 71.526, Timestamp('2019-01-07 00:00:00'), 'Ewallet', 3.406, 6.8]\n",
      "['373-73-7910', 'Yangon', 'Male', 'Sports and travel', 86.31, 7, 634.3785, Timestamp('2019-02-08 00:00:00'), 'Ewallet', 30.2085, 5.3]\n",
      "['236-86-3015', 'Naypyitaw', 'Male', 'Home and lifestyle', 13.98, 1, 14.679, Timestamp('2019-02-04 00:00:00'), 'Ewallet', 0.699, 9.8]\n",
      "['408-26-9866', 'Naypyitaw', 'Female', 'Sports and travel', 73.98, 7, 543.753, Timestamp('2019-03-02 00:00:00'), 'Ewallet', 25.893, 4.1]\n",
      "['731-81-9469', 'Naypyitaw', 'Female', 'Sports and travel', 89.8, 10, 942.9, Timestamp('2019-01-23 00:00:00'), 'Credit card', 44.9, 5.4]\n",
      "['645-78-8093', 'Yangon', 'Female', 'Sports and travel', 93.14, 2, 195.594, Timestamp('2019-01-20 00:00:00'), 'Ewallet', 9.314, 4.1]\n",
      "['803-83-5989', 'Naypyitaw', 'Male', 'Home and lifestyle', 55.73, 6, 351.099, Timestamp('2019-02-24 00:00:00'), 'Ewallet', 16.719, 7.0]\n",
      "['873-51-0671', 'Yangon', 'Female', 'Sports and travel', 21.98, 7, 161.553, Timestamp('2019-01-10 00:00:00'), 'Ewallet', 7.693, 5.1]\n",
      "['534-53-3526', 'Yangon', 'Female', 'Sports and travel', 94.76, 4, 397.992, Timestamp('2019-02-11 00:00:00'), 'Ewallet', 18.952, 7.8]\n",
      "['583-41-4548', 'Naypyitaw', 'Male', 'Home and lifestyle', 16.67, 7, 122.5245, Timestamp('2019-02-07 00:00:00'), 'Ewallet', 5.8345, 7.4]\n",
      "\n",
      "Relevant colss:\n",
      "Product line\n",
      "Total\n",
      "City\n",
      "Gender\n",
      "Date\n",
      "Rating\n",
      "Unit price\n",
      "Quantity\n",
      "gross income\n",
      "\n",
      "Relevant row index:\n",
      "35\n",
      "4\n",
      "402\n",
      "569\n",
      "140\n",
      "235\n",
      "61\n",
      "92\n",
      "781\n",
      "535\n",
      "\n",
      "Relevant cols index:\n",
      "3\n",
      "6\n",
      "1\n",
      "2\n",
      "7\n",
      "10\n",
      "4\n",
      "5\n",
      "9\n"
     ]
    }
   ],
   "source": [
    "## checking if it works\n",
    "\n",
    "query = \"What product line is in the latest entry?\"\n",
    "threshold = 0.7  \n",
    "max_results = 10  \n",
    "\n",
    "relevant_rows, relevant_columns, relevant_row_indices, relevant_column_indices = retrieve_relevant_data(query, table_embeddings, column_embeddings, row_index, column_index, threshold=0.5, max_results=10)\n",
    "\n",
    "print(\"Relevant Rows :\")\n",
    "for row in relevant_rows:\n",
    "    print(row)\n",
    "\n",
    "print(\"\\nRelevant colss:\")\n",
    "for col in relevant_columns:\n",
    "    print(col)\n",
    "\n",
    "print(\"\\nRelevant row index:\")\n",
    "for row in relevant_row_indices:\n",
    "    print(row)\n",
    "\n",
    "print(\"\\nRelevant cols index:\")\n",
    "for col in relevant_column_indices:\n",
    "    print(col)"
   ]
  },
  {
   "cell_type": "markdown",
   "id": "1905fe8e-8ba4-47d6-8a54-d9ef9c01665d",
   "metadata": {},
   "source": [
    "we are able to sucessfully retrieve desired columns and rows as well as their indexes"
   ]
  },
  {
   "cell_type": "code",
   "execution_count": 36,
   "id": "0dea2d7b-25de-42e1-8ab2-de390760b7ca",
   "metadata": {},
   "outputs": [],
   "source": [
    "# function to generate data given to llms\n",
    "\n",
    "def imp_row_col(query, threshold=0.5, max_results=20):\n",
    "    relevant_rows, relevant_columns, relevant_row_indices, relevant_column_indices = retrieve_relevant_data(query, table_embeddings, column_embeddings, row_index, column_index, threshold=0.5, max_results=10)\n",
    "    \n",
    "    context = \"\" \n",
    "\n",
    "    context += \"Relevant Rows:\\n\"\n",
    "    for row in relevant_rows:\n",
    "        context += f\"{row}`\\n\"\n",
    "\n",
    "    context += \"\\nRelevant Columns:\\n\"\n",
    "    for col in relevant_columns:\n",
    "        context += f\"{col}\\n\"\n",
    "    \n",
    "    return context\n"
   ]
  },
  {
   "cell_type": "code",
   "execution_count": 21,
   "id": "008f1166-97c0-49fb-9deb-712cfad1c92d",
   "metadata": {},
   "outputs": [
    {
     "data": {
      "text/plain": [
       "\"Relevant Rows:\\n['232-16-2483', 'Naypyitaw', 'Female', 'Sports and travel', 68.12, 1, 71.526, Timestamp('2019-01-07 00:00:00'), 'Ewallet', 3.406, 6.8]\\n['236-86-3015', 'Naypyitaw', 'Male', 'Home and lifestyle', 13.98, 1, 14.679, Timestamp('2019-02-04 00:00:00'), 'Ewallet', 0.699, 9.8]\\n['803-83-5989', 'Naypyitaw', 'Male', 'Home and lifestyle', 55.73, 6, 351.099, Timestamp('2019-02-24 00:00:00'), 'Ewallet', 16.719, 7.0]\\n['373-73-7910', 'Yangon', 'Male', 'Sports and travel', 86.31, 7, 634.3785, Timestamp('2019-02-08 00:00:00'), 'Ewallet', 30.2085, 5.3]\\n['645-78-8093', 'Yangon', 'Female', 'Sports and travel', 93.14, 2, 195.594, Timestamp('2019-01-20 00:00:00'), 'Ewallet', 9.314, 4.1]\\n['848-95-6252', 'Naypyitaw', 'Female', 'Home and lifestyle', 86.27, 1, 90.5835, Timestamp('2019-02-20 00:00:00'), 'Ewallet', 4.3135, 7.0]\\n['534-53-3526', 'Yangon', 'Female', 'Sports and travel', 94.76, 4, 397.992, Timestamp('2019-02-11 00:00:00'), 'Ewallet', 18.952, 7.8]\\n['408-26-9866', 'Naypyitaw', 'Female', 'Sports and travel', 73.98, 7, 543.753, Timestamp('2019-03-02 00:00:00'), 'Ewallet', 25.893, 4.1]\\n['731-81-9469', 'Naypyitaw', 'Female', 'Sports and travel', 89.8, 10, 942.9, Timestamp('2019-01-23 00:00:00'), 'Credit card', 44.9, 5.4]\\n['583-41-4548', 'Naypyitaw', 'Male', 'Home and lifestyle', 16.67, 7, 122.5245, Timestamp('2019-02-07 00:00:00'), 'Ewallet', 5.8345, 7.4]\\n\\nRelevant Columns:\\nProduct line\\nUnit price\\nTotal\\nGender\\nCity\\nQuantity\\ngross income\\nRating\\nDate\\n\""
      ]
     },
     "execution_count": 21,
     "metadata": {},
     "output_type": "execute_result"
    }
   ],
   "source": [
    "# exampple:\n",
    "\n",
    "value= imp_row_col(\"What is the average unit price?\",0.5,10)\n",
    "value"
   ]
  },
  {
   "cell_type": "markdown",
   "id": "4d4e58a1-bba1-4225-b2f9-a228e1483f9b",
   "metadata": {},
   "source": [
    "## Fetching answer with LLM"
   ]
  },
  {
   "cell_type": "code",
   "execution_count": 47,
   "id": "88ff9413-45a7-4840-b1ba-1c76ac76eac2",
   "metadata": {},
   "outputs": [],
   "source": [
    "## function to generate answer\n",
    "\n",
    "\n",
    "def generate_ans(query, context):\n",
    "    prompt = f\"\"\"\n",
    "    You are an AI assistant that processes tabular data and answers questions based on it. try your best to answers in word rather than sentence\n",
    "\n",
    "    Example Questions and Answers:\n",
    "    \n",
    "    question: What product line is in the latest entry?\n",
    "    answer: Fashion accessories\n",
    "    \n",
    "    question: On what date did the first transaction occur?\n",
    "    answer: 1/1/2019\n",
    "    \n",
    "    question: How many transactions involved Male customers and a rating of 9.1?\n",
    "    answer: 5\n",
    "    \n",
    "    Now, process the given tabular data context and answer the following question.\n",
    "\n",
    "    Context:\n",
    "    {context}\n",
    "\n",
    "    question: {query}\n",
    "    answer:\n",
    "    \"\"\"\n",
    "\n",
    "    response = openai.chat.completions.create(\n",
    "        model=\"gpt-4o-mini\",  \n",
    "        messages=[{\"role\": \"user\", \"content\": prompt}]\n",
    "    )\n",
    "\n",
    "    return response.choices[0].message.content.strip()\n"
   ]
  },
  {
   "cell_type": "code",
   "execution_count": 26,
   "id": "3b5791d2-3ce6-4df5-a653-b06f08d8036f",
   "metadata": {},
   "outputs": [
    {
     "name": "stdout",
     "output_type": "stream",
     "text": [
      "Answer: Home and lifestyle\n"
     ]
    }
   ],
   "source": [
    "## example\n",
    "\n",
    "answer = generate_ans(\"What product line is in the latest entry?\", value)\n",
    "print(\"Answer:\", answer)\n"
   ]
  },
  {
   "cell_type": "markdown",
   "id": "29992529-cfe4-41dd-90a4-0f5b49faa872",
   "metadata": {},
   "source": [
    "## trying to fill qa file"
   ]
  },
  {
   "cell_type": "code",
   "execution_count": 48,
   "id": "b5e74707-44a5-4e59-9439-d78e8ab87c2e",
   "metadata": {},
   "outputs": [
    {
     "data": {
      "text/plain": [
       "Index(['question', 'row index', 'column index', 'answer', 'filtered row index',\n",
       "       'filtered column index', 'generated response'],\n",
       "      dtype='object')"
      ]
     },
     "execution_count": 48,
     "metadata": {},
     "output_type": "execute_result"
    }
   ],
   "source": [
    "input= pd.read_excel(\"QA_dataset_share.xlsx\")\n",
    "input.columns"
   ]
  },
  {
   "cell_type": "code",
   "execution_count": 49,
   "id": "bce8204e-c105-4aa6-b9f6-8720efefb00c",
   "metadata": {},
   "outputs": [
    {
     "name": "stderr",
     "output_type": "stream",
     "text": [
      "C:\\Users\\varsh\\AppData\\Local\\Temp\\ipykernel_2384\\1810989406.py:4: FutureWarning: Setting an item of incompatible dtype is deprecated and will raise an error in a future version of pandas. Value '35, 4, 402, 569, 140, 235, 61, 92, 781, 535, 860, 163, 982, 470, 597' has dtype incompatible with float64, please explicitly cast to a compatible dtype first.\n",
      "  df.at[i, 'filtered row index'] = ', '.join(map(str, relevant_row_index))\n",
      "C:\\Users\\varsh\\AppData\\Local\\Temp\\ipykernel_2384\\1810989406.py:5: FutureWarning: Setting an item of incompatible dtype is deprecated and will raise an error in a future version of pandas. Value '3, 6, 1, 2, 7, 10, 4, 5, 9, 8' has dtype incompatible with float64, please explicitly cast to a compatible dtype first.\n",
      "  df.at[i, 'filtered column index'] = ', '.join(map(str, relevant_column_index))\n"
     ]
    }
   ],
   "source": [
    "def fill_index(df, threshold=0.5, max_results=10):\n",
    "    for i, query in enumerate(df['question']):\n",
    "        relevant_rows, relevant_columns, relevant_row_index, relevant_column_index= retrieve_relevant_data(query,table_embeddings, column_embeddings, row_index, column_index, threshold, max_results)\n",
    "        df.at[i, 'filtered row index'] = ', '.join(map(str, relevant_row_index))\n",
    "        df.at[i, 'filtered column index'] = ', '.join(map(str, relevant_column_index))\n",
    "\n",
    "\n",
    "fill_index(input,0.7,15 )"
   ]
  },
  {
   "cell_type": "code",
   "execution_count": 35,
   "id": "d4098335-c7b1-419f-92f8-7eb834516a36",
   "metadata": {},
   "outputs": [],
   "source": [
    "# input.to_csv(\"filled file.csv\")"
   ]
  },
  {
   "cell_type": "code",
   "execution_count": 50,
   "id": "a73bd384-545c-435c-8b11-eda3f3a98bf5",
   "metadata": {},
   "outputs": [],
   "source": [
    "# Function to fill answers in the DataFrame\n",
    "def fill_answer(df, threshold=0.5, max_results=10):\n",
    "    for i, query in df['question'].items():  \n",
    "        context_value = imp_row_col(query, threshold, max_results)  \n",
    "        answer = generate_ans(query, context_value)  \n",
    "        df.at[i, 'generated_response'] = answer  \n"
   ]
  },
  {
   "cell_type": "code",
   "execution_count": 51,
   "id": "0c576cd5-ba99-4828-b489-0b073591a052",
   "metadata": {},
   "outputs": [],
   "source": [
    "fill_answer(input, 0.5,15)"
   ]
  },
  {
   "cell_type": "code",
   "execution_count": 52,
   "id": "ead91061-f5cb-4971-b8ec-684aec134a94",
   "metadata": {},
   "outputs": [
    {
     "data": {
      "text/plain": [
       "0     Home and lifestyle\n",
       "1               1/1/2019\n",
       "2       answer: 3/2/2019\n",
       "3                    9.8\n",
       "4                      0\n",
       "             ...        \n",
       "65         answer: 13.98\n",
       "66                     1\n",
       "67             answer: 0\n",
       "68                     2\n",
       "69                     0\n",
       "Name: generated_response, Length: 70, dtype: object"
      ]
     },
     "execution_count": 52,
     "metadata": {},
     "output_type": "execute_result"
    }
   ],
   "source": [
    "input['generated_response']"
   ]
  },
  {
   "cell_type": "code",
   "execution_count": 53,
   "id": "2dff4384-c084-4ae0-8c49-2b1ab30c6197",
   "metadata": {},
   "outputs": [],
   "source": [
    "input.to_excel(\"filled qa file.xlsx\")"
   ]
  },
  {
   "cell_type": "code",
   "execution_count": null,
   "id": "e6e79840-0b4d-4fd3-a388-1a5df8e421bb",
   "metadata": {},
   "outputs": [],
   "source": []
  },
  {
   "cell_type": "code",
   "execution_count": null,
   "id": "8c53e671-29d9-4e84-ac36-3b77ba169bf5",
   "metadata": {},
   "outputs": [],
   "source": []
  },
  {
   "cell_type": "code",
   "execution_count": null,
   "id": "51768ed2-c2f7-42da-9c82-0b4572c0d4f9",
   "metadata": {},
   "outputs": [],
   "source": []
  }
 ],
 "metadata": {
  "kernelspec": {
   "display_name": "Python 3 (ipykernel)",
   "language": "python",
   "name": "python3"
  },
  "language_info": {
   "codemirror_mode": {
    "name": "ipython",
    "version": 3
   },
   "file_extension": ".py",
   "mimetype": "text/x-python",
   "name": "python",
   "nbconvert_exporter": "python",
   "pygments_lexer": "ipython3",
   "version": "3.12.4"
  }
 },
 "nbformat": 4,
 "nbformat_minor": 5
}
